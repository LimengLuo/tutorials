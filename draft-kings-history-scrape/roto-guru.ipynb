{
 "cells": [
  {
   "cell_type": "markdown",
   "metadata": {},
   "source": [
    "# Scrape Example\n",
    "http://rotoguru1.com/cgi-bin/fyday.pl?gameyr=fd2014 "
   ]
  },
  {
   "cell_type": "code",
   "execution_count": 4,
   "metadata": {
    "collapsed": false
   },
   "outputs": [],
   "source": [
    "import pandas as pd\n",
    "import utils\n",
    "import io\n",
    "\n",
    "pd.options.display.max_columns=999"
   ]
  },
  {
   "cell_type": "code",
   "execution_count": 5,
   "metadata": {
    "collapsed": true
   },
   "outputs": [],
   "source": [
    "BASE_URL=\"http://rotoguru1.com/cgi-bin/fyday.pl?game=dk&scsv=1&week=WEEK&year=YEAR\"\n",
    "WEEKS=list(map(str,range(1,18)))\n",
    "YEARS=list(map(str,range(2014,2017)))"
   ]
  },
  {
   "cell_type": "code",
   "execution_count": null,
   "metadata": {
    "collapsed": false
   },
   "outputs": [
    {
     "name": "stdout",
     "output_type": "stream",
     "text": [
      "http://rotoguru1.com/cgi-bin/fyday.pl?game=dk&scsv=1&week=2&year=2014\n"
     ]
    }
   ],
   "source": [
    "all_games=pd.DataFrame()\n",
    "for yr in YEARS:\n",
    "    for wk in WEEKS:\n",
    "        soup=utils.soup(BASE_URL.replace(\"WEEK\",wk).replace(\"YEAR\",yr))\n",
    "        all_games=pd.concat([all_games,pd.read_csv(io.StringIO(soup.find(\"pre\").text),sep=\";\")])\n",
    "all_games"
   ]
  },
  {
   "cell_type": "code",
   "execution_count": null,
   "metadata": {
    "collapsed": true
   },
   "outputs": [],
   "source": []
  }
 ],
 "metadata": {
  "kernelspec": {
   "display_name": "Python [py3]",
   "language": "python",
   "name": "Python [py3]"
  },
  "language_info": {
   "codemirror_mode": {
    "name": "ipython",
    "version": 3
   },
   "file_extension": ".py",
   "mimetype": "text/x-python",
   "name": "python",
   "nbconvert_exporter": "python",
   "pygments_lexer": "ipython3",
   "version": "3.5.2"
  }
 },
 "nbformat": 4,
 "nbformat_minor": 0
}
