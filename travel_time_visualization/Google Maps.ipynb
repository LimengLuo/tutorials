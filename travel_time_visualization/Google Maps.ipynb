{
 "cells": [
  {
   "cell_type": "code",
   "execution_count": 1,
   "metadata": {
    "collapsed": false
   },
   "outputs": [],
   "source": [
    "from config import API_KEY\n",
    "import requests"
   ]
  },
  {
   "cell_type": "code",
   "execution_count": 14,
   "metadata": {
    "collapsed": true
   },
   "outputs": [],
   "source": [
    "BASE_URL=\"https://maps.googleapis.com/maps/api/\"\n",
    "def makeRequest(url):\n",
    "    url+=\"&key=%s\"%API_KEY\n",
    "    #print(url)\n",
    "    return requests.get(url).json()\n",
    "def getDistanceMatrix(origin,destination,mode=\"car\",departure_time=None,traffic_model =\"best_guess\"):\n",
    "    url=BASE_URL+\"distancematrix/json?\"\n",
    "    params=\"origins=%s&destinations=%s&mode=%s&departure_time=%s&traffic_model=%s\"%(origin,destination,mode,departure_time,traffic_model)\n",
    "    return makeRequest(url+params)"
   ]
  },
  {
   "cell_type": "code",
   "execution_count": 15,
   "metadata": {
    "collapsed": false
   },
   "outputs": [
    {
     "data": {
      "text/plain": [
       "{'destination_addresses': ['Willowbrook, IL 60527, USA'],\n",
       " 'origin_addresses': ['Chicago, IL 60607, USA'],\n",
       " 'rows': [{'elements': [{'distance': {'text': '32.5 km', 'value': 32453},\n",
       "     'duration': {'text': '28 mins', 'value': 1691},\n",
       "     'duration_in_traffic': {'text': '32 mins', 'value': 1946},\n",
       "     'status': 'OK'}]}],\n",
       " 'status': 'OK'}"
      ]
     },
     "execution_count": 15,
     "metadata": {},
     "output_type": "execute_result"
    }
   ],
   "source": [
    "import datetime\n",
    "departure_time=datetime.datetime.now().timestamp()\n",
    "response=getDistanceMatrix(\"60607\",\"60527\",\"car\",int(departure_time))\n",
    "response"
   ]
  },
  {
   "cell_type": "markdown",
   "metadata": {},
   "source": [
    "TODO add optimistic and pessimistic range. Compute for range until a point. E.g. I need to be home by 6 and want the least time driving"
   ]
  },
  {
   "cell_type": "code",
   "execution_count": 16,
   "metadata": {
    "collapsed": false
   },
   "outputs": [
    {
     "data": {
      "text/plain": [
       "240"
      ]
     },
     "execution_count": 16,
     "metadata": {},
     "output_type": "execute_result"
    }
   ],
   "source": [
    "len(range(0,60*20,15))*3"
   ]
  },
  {
   "cell_type": "code",
   "execution_count": 89,
   "metadata": {
    "collapsed": false
   },
   "outputs": [],
   "source": [
    "now=datetime.datetime(2017, 6, 21, 12, 45, 0, 0)"
   ]
  },
  {
   "cell_type": "code",
   "execution_count": 91,
   "metadata": {
    "collapsed": false,
    "scrolled": true
   },
   "outputs": [],
   "source": [
    "from collections import defaultdict\n",
    "departure_time=datetime.datetime(2017, 6, 21, 12, 45, 0, 0)#datetime.datetime.now()\n",
    "start_date=departure_time\n",
    "request_times=defaultdict(dict)\n",
    "for date in (start_date + datetime.timedelta(minutes=offset) for offset in range(0,60*8,15)):\n",
    "    #if date<start_date+datetime.timedelta(hours=5):#replace with UNTIL\n",
    "    date_str=date#.strftime(\"%b-%d %H:%M\")\n",
    "    request_times['best_guess'][date_str]=(getDistanceMatrix(\"60606\",\"60527\",\"car\",int(date.timestamp()),'best_guess'))\n",
    "    request_times['pessimistic'][date_str]=(getDistanceMatrix(\"60606\",\"60527\",\"car\",int(date.timestamp()),'pessimistic'))\n",
    "    request_times['optimistic'][date_str]=(getDistanceMatrix(\"60606\",\"60527\",\"car\",int(date.timestamp()),'optimistic'))"
   ]
  },
  {
   "cell_type": "code",
   "execution_count": 92,
   "metadata": {
    "collapsed": false
   },
   "outputs": [],
   "source": [
    "request_times_copy=request_times.copy()\n",
    "for date in request_times_copy:\n",
    "    for traffic_model in request_times_copy[date]:\n",
    "        request_times_copy[date][traffic_model]=request_times[date][traffic_model]['rows'][0]['elements'][0]['duration_in_traffic']['value']"
   ]
  },
  {
   "cell_type": "code",
   "execution_count": 93,
   "metadata": {
    "collapsed": false
   },
   "outputs": [
    {
     "data": {
      "text/html": [
       "<div>\n",
       "<table border=\"1\" class=\"dataframe\">\n",
       "  <thead>\n",
       "    <tr style=\"text-align: right;\">\n",
       "      <th></th>\n",
       "      <th>best_guess</th>\n",
       "      <th>optimistic</th>\n",
       "      <th>pessimistic</th>\n",
       "    </tr>\n",
       "  </thead>\n",
       "  <tbody>\n",
       "    <tr>\n",
       "      <th>2017-06-21 19:30:00</th>\n",
       "      <td>28.716667</td>\n",
       "      <td>25.483333</td>\n",
       "      <td>35.45</td>\n",
       "    </tr>\n",
       "    <tr>\n",
       "      <th>2017-06-21 19:45:00</th>\n",
       "      <td>28.000000</td>\n",
       "      <td>25.016667</td>\n",
       "      <td>34.65</td>\n",
       "    </tr>\n",
       "    <tr>\n",
       "      <th>2017-06-21 20:00:00</th>\n",
       "      <td>27.900000</td>\n",
       "      <td>24.983333</td>\n",
       "      <td>34.20</td>\n",
       "    </tr>\n",
       "    <tr>\n",
       "      <th>2017-06-21 20:15:00</th>\n",
       "      <td>28.033333</td>\n",
       "      <td>24.966667</td>\n",
       "      <td>34.55</td>\n",
       "    </tr>\n",
       "    <tr>\n",
       "      <th>2017-06-21 20:30:00</th>\n",
       "      <td>27.883333</td>\n",
       "      <td>24.983333</td>\n",
       "      <td>34.25</td>\n",
       "    </tr>\n",
       "  </tbody>\n",
       "</table>\n",
       "</div>"
      ],
      "text/plain": [
       "                     best_guess  optimistic  pessimistic\n",
       "2017-06-21 19:30:00   28.716667   25.483333        35.45\n",
       "2017-06-21 19:45:00   28.000000   25.016667        34.65\n",
       "2017-06-21 20:00:00   27.900000   24.983333        34.20\n",
       "2017-06-21 20:15:00   28.033333   24.966667        34.55\n",
       "2017-06-21 20:30:00   27.883333   24.983333        34.25"
      ]
     },
     "execution_count": 93,
     "metadata": {},
     "output_type": "execute_result"
    }
   ],
   "source": [
    "import pandas as pd\n",
    "travel_times=pd.DataFrame(request_times_copy)/60\n",
    "travel_times.tail()"
   ]
  },
  {
   "cell_type": "code",
   "execution_count": 67,
   "metadata": {
    "collapsed": true
   },
   "outputs": [],
   "source": [
    "travel_times.to_csv(\"travel_times.csv\")"
   ]
  },
  {
   "cell_type": "code",
   "execution_count": 134,
   "metadata": {
    "collapsed": false
   },
   "outputs": [
    {
     "data": {
      "text/plain": [
       "<matplotlib.text.Text at 0x29c2805ac88>"
      ]
     },
     "execution_count": 134,
     "metadata": {},
     "output_type": "execute_result"
    },
    {
     "data": {
      "image/png": "[encoded data removed]",
      "text/plain": [
       "<matplotlib.figure.Figure at 0x29c26c1dbe0>"
      ]
     },
     "metadata": {},
     "output_type": "display_data"
    }
   ],
   "source": [
    "import matplotlib.pyplot as plt\n",
    "%matplotlib inline\n",
    "colors=['xkcd:windows blue','xkcd:faded green','xkcd:amber',]\n",
    "travel_times.plot(color=colors)\n",
    "plt.title(\"Travel Times to Drive Home\")\n",
    "plt.xlabel(\"Departure Time\")\n",
    "plt.ylabel(\"Time (minutes)\")"
   ]
  },
  {
   "cell_type": "markdown",
   "metadata": {},
   "source": [
    "Adding in latest time to leave"
   ]
  },
  {
   "cell_type": "code",
   "execution_count": 135,
   "metadata": {
    "collapsed": false
   },
   "outputs": [
    {
     "data": {
      "text/plain": [
       "<matplotlib.text.Text at 0x29c28062828>"
      ]
     },
     "execution_count": 135,
     "metadata": {},
     "output_type": "execute_result"
    },
    {
     "data": {
      "image/png": "[encoded data removed]",
      "text/plain": [
       "<matplotlib.figure.Figure at 0x29c2805fa58>"
      ]
     },
     "metadata": {},
     "output_type": "display_data"
    }
   ],
   "source": [
    "#probably a pandas function I could use here but this was easier\n",
    "ARRIVE_BY=datetime.datetime(2017, 6, 21, 18, 0, 0, 0)\n",
    "new_rows=[]\n",
    "for time,row in travel_times.iterrows():\n",
    "    new_row=[]\n",
    "    for val in row:\n",
    "        new_val=None\n",
    "        if time+datetime.timedelta(minutes=val)<=ARRIVE_BY:\n",
    "            new_val=val\n",
    "        new_row.append(new_val)\n",
    "    new_rows.append(new_row)\n",
    "new_travel_times=pd.DataFrame(new_rows, columns=travel_times.columns, index=travel_times.index)\n",
    "new_travel_times.plot(color=colors)\n",
    "plt.title(\"Travel Times to Drive Home with Last Departure\")\n",
    "plt.xlabel(\"Departure Time\")\n",
    "plt.ylabel(\"Time (minutes)\")"
   ]
  },
  {
   "cell_type": "code",
   "execution_count": 259,
   "metadata": {
    "collapsed": false
   },
   "outputs": [
    {
     "data": {
      "text/plain": [
       "<matplotlib.text.Text at 0x29c2ff0e3c8>"
      ]
     },
     "execution_count": 259,
     "metadata": {},
     "output_type": "execute_result"
    },
    {
     "data": {
      "image/png": "[encoded data removed]",
      "text/plain": [
       "<matplotlib.figure.Figure at 0x29c2fe3d1d0>"
      ]
     },
     "metadata": {},
     "output_type": "display_data"
    }
   ],
   "source": [
    "#probably a pandas function I could use here but this was easier\n",
    "ARRIVE_BY=datetime.datetime(2017, 6, 21, 18, 0, 0, 0)\n",
    "new_rows=[]\n",
    "for time,row in travel_times.iterrows():\n",
    "    new_row={}\n",
    "    for col,val in row.items():\n",
    "        if time+datetime.timedelta(minutes=val)<=ARRIVE_BY:\n",
    "            new_row[col]=val\n",
    "            new_row[col+\"_late\"]=None\n",
    "        elif time+datetime.timedelta(minutes=val-15)<=ARRIVE_BY:\n",
    "            new_row[col]=val\n",
    "            new_row[col+\"_late\"]=val\n",
    "        else:\n",
    "            new_row[col+\"_late\"]=val\n",
    "            new_row[col]=None\n",
    "    new_rows.append(new_row)\n",
    "new_travel_times=pd.DataFrame(new_rows,index=travel_times.index)\n",
    "new_colors=[x for x in colors for _ in range(2)]\n",
    "new_travel_times.plot(color=new_colors,style=['-','-.','-','-.','-','-.'])\n",
    "plt.title(\"Travel Times to Drive Home with Last Departure\")\n",
    "plt.xlabel(\"Departure Time\")\n",
    "plt.ylabel(\"Time (minutes)\")"
   ]
  },
  {
   "cell_type": "code",
   "execution_count": 257,
   "metadata": {
    "collapsed": false
   },
   "outputs": [
    {
     "data": {
      "text/plain": [
       "<matplotlib.text.Text at 0x29c2fdc82e8>"
      ]
     },
     "execution_count": 257,
     "metadata": {},
     "output_type": "execute_result"
    },
    {
     "data": {
      "image/png": "[encoded data removed]",
      "text/plain": [
       "<matplotlib.figure.Figure at 0x29c2fdacb00>"
      ]
     },
     "metadata": {},
     "output_type": "display_data"
    }
   ],
   "source": [
    "from collections import defaultdict\n",
    "ARRIVE_BY=datetime.datetime(2017, 6, 21, 18, 1,0, 0)#have a small off by one error below\n",
    "v_lines=defaultdict(tuple)\n",
    "new_rows=[]\n",
    "for time,row in travel_times.iterrows():\n",
    "    new_row={}\n",
    "    for col,val in row.items():\n",
    "        if time+datetime.timedelta(minutes=val)<=ARRIVE_BY:\n",
    "            new_row[col]=val\n",
    "            new_row[col+\"_late\"]=None\n",
    "        elif time+datetime.timedelta(minutes=val-15)<=ARRIVE_BY:\n",
    "            if v_lines[col]==():\n",
    "                v_lines[col]=[time,val-3,val+3]\n",
    "            new_row[col]=val\n",
    "            new_row[col+\"_late\"]=val\n",
    "        else:\n",
    "            new_row[col+\"_late\"]=val\n",
    "            new_row[col]=None\n",
    "    new_rows.append(new_row)\n",
    "new_travel_times=pd.DataFrame(new_rows,index=travel_times.index)\n",
    "new_colors=[x for x in colors for _ in range(2)]\n",
    "new_travel_times.plot(color=new_colors,style=['-','.','-','.','-','.'])\n",
    "for key,vline in v_lines.items():\n",
    "    plt.vlines(x=vline[0],  ymin=vline[1], ymax=vline[2],color=\"xkcd:dusty purple\")\n",
    "plt.title(\"Travel Times to Drive Home with Last Departure\")\n",
    "plt.xlabel(\"Departure Time\")\n",
    "plt.ylabel(\"Time (minutes)\")"
   ]
  },
  {
   "cell_type": "code",
   "execution_count": 253,
   "metadata": {
    "collapsed": false
   },
   "outputs": [
    {
     "data": {
      "text/html": [
       "<div>\n",
       "<table border=\"1\" class=\"dataframe\">\n",
       "  <thead>\n",
       "    <tr style=\"text-align: right;\">\n",
       "      <th></th>\n",
       "      <th>best_guess</th>\n",
       "      <th>best_guess_late</th>\n",
       "      <th>optimistic</th>\n",
       "      <th>optimistic_late</th>\n",
       "      <th>pessimistic</th>\n",
       "      <th>pessimistic_late</th>\n",
       "    </tr>\n",
       "  </thead>\n",
       "  <tbody>\n",
       "    <tr>\n",
       "      <th>2017-06-21 12:45:00</th>\n",
       "      <td>32.866667</td>\n",
       "      <td>NaN</td>\n",
       "      <td>27.266667</td>\n",
       "      <td>NaN</td>\n",
       "      <td>40.366667</td>\n",
       "      <td>NaN</td>\n",
       "    </tr>\n",
       "    <tr>\n",
       "      <th>2017-06-21 13:00:00</th>\n",
       "      <td>32.483333</td>\n",
       "      <td>NaN</td>\n",
       "      <td>27.600000</td>\n",
       "      <td>NaN</td>\n",
       "      <td>40.916667</td>\n",
       "      <td>NaN</td>\n",
       "    </tr>\n",
       "    <tr>\n",
       "      <th>2017-06-21 13:15:00</th>\n",
       "      <td>33.016667</td>\n",
       "      <td>NaN</td>\n",
       "      <td>28.500000</td>\n",
       "      <td>NaN</td>\n",
       "      <td>42.783333</td>\n",
       "      <td>NaN</td>\n",
       "    </tr>\n",
       "    <tr>\n",
       "      <th>2017-06-21 13:30:00</th>\n",
       "      <td>33.783333</td>\n",
       "      <td>NaN</td>\n",
       "      <td>29.650000</td>\n",
       "      <td>NaN</td>\n",
       "      <td>44.383333</td>\n",
       "      <td>NaN</td>\n",
       "    </tr>\n",
       "    <tr>\n",
       "      <th>2017-06-21 13:45:00</th>\n",
       "      <td>35.483333</td>\n",
       "      <td>NaN</td>\n",
       "      <td>31.083333</td>\n",
       "      <td>NaN</td>\n",
       "      <td>49.600000</td>\n",
       "      <td>NaN</td>\n",
       "    </tr>\n",
       "    <tr>\n",
       "      <th>2017-06-21 14:00:00</th>\n",
       "      <td>39.266667</td>\n",
       "      <td>NaN</td>\n",
       "      <td>33.766667</td>\n",
       "      <td>NaN</td>\n",
       "      <td>57.616667</td>\n",
       "      <td>NaN</td>\n",
       "    </tr>\n",
       "    <tr>\n",
       "      <th>2017-06-21 14:15:00</th>\n",
       "      <td>46.166667</td>\n",
       "      <td>NaN</td>\n",
       "      <td>37.183333</td>\n",
       "      <td>NaN</td>\n",
       "      <td>64.400000</td>\n",
       "      <td>NaN</td>\n",
       "    </tr>\n",
       "    <tr>\n",
       "      <th>2017-06-21 14:30:00</th>\n",
       "      <td>47.800000</td>\n",
       "      <td>NaN</td>\n",
       "      <td>39.916667</td>\n",
       "      <td>NaN</td>\n",
       "      <td>69.100000</td>\n",
       "      <td>NaN</td>\n",
       "    </tr>\n",
       "    <tr>\n",
       "      <th>2017-06-21 14:45:00</th>\n",
       "      <td>51.033333</td>\n",
       "      <td>NaN</td>\n",
       "      <td>41.950000</td>\n",
       "      <td>NaN</td>\n",
       "      <td>71.233333</td>\n",
       "      <td>NaN</td>\n",
       "    </tr>\n",
       "    <tr>\n",
       "      <th>2017-06-21 15:00:00</th>\n",
       "      <td>52.450000</td>\n",
       "      <td>NaN</td>\n",
       "      <td>42.200000</td>\n",
       "      <td>NaN</td>\n",
       "      <td>76.866667</td>\n",
       "      <td>NaN</td>\n",
       "    </tr>\n",
       "    <tr>\n",
       "      <th>2017-06-21 15:15:00</th>\n",
       "      <td>55.566667</td>\n",
       "      <td>NaN</td>\n",
       "      <td>45.233333</td>\n",
       "      <td>NaN</td>\n",
       "      <td>82.700000</td>\n",
       "      <td>NaN</td>\n",
       "    </tr>\n",
       "    <tr>\n",
       "      <th>2017-06-21 15:30:00</th>\n",
       "      <td>58.333333</td>\n",
       "      <td>NaN</td>\n",
       "      <td>47.150000</td>\n",
       "      <td>NaN</td>\n",
       "      <td>87.300000</td>\n",
       "      <td>NaN</td>\n",
       "    </tr>\n",
       "    <tr>\n",
       "      <th>2017-06-21 15:45:00</th>\n",
       "      <td>59.683333</td>\n",
       "      <td>NaN</td>\n",
       "      <td>48.583333</td>\n",
       "      <td>NaN</td>\n",
       "      <td>87.666667</td>\n",
       "      <td>NaN</td>\n",
       "    </tr>\n",
       "    <tr>\n",
       "      <th>2017-06-21 16:00:00</th>\n",
       "      <td>61.616667</td>\n",
       "      <td>NaN</td>\n",
       "      <td>48.016667</td>\n",
       "      <td>NaN</td>\n",
       "      <td>88.900000</td>\n",
       "      <td>NaN</td>\n",
       "    </tr>\n",
       "    <tr>\n",
       "      <th>2017-06-21 16:15:00</th>\n",
       "      <td>61.483333</td>\n",
       "      <td>NaN</td>\n",
       "      <td>49.533333</td>\n",
       "      <td>NaN</td>\n",
       "      <td>89.850000</td>\n",
       "      <td>NaN</td>\n",
       "    </tr>\n",
       "    <tr>\n",
       "      <th>2017-06-21 16:30:00</th>\n",
       "      <td>61.266667</td>\n",
       "      <td>NaN</td>\n",
       "      <td>49.266667</td>\n",
       "      <td>NaN</td>\n",
       "      <td>87.466667</td>\n",
       "      <td>NaN</td>\n",
       "    </tr>\n",
       "    <tr>\n",
       "      <th>2017-06-21 16:45:00</th>\n",
       "      <td>60.600000</td>\n",
       "      <td>NaN</td>\n",
       "      <td>48.916667</td>\n",
       "      <td>NaN</td>\n",
       "      <td>80.450000</td>\n",
       "      <td>80.450000</td>\n",
       "    </tr>\n",
       "    <tr>\n",
       "      <th>2017-06-21 17:00:00</th>\n",
       "      <td>58.450000</td>\n",
       "      <td>NaN</td>\n",
       "      <td>47.100000</td>\n",
       "      <td>NaN</td>\n",
       "      <td>NaN</td>\n",
       "      <td>76.316667</td>\n",
       "    </tr>\n",
       "    <tr>\n",
       "      <th>2017-06-21 17:15:00</th>\n",
       "      <td>54.816667</td>\n",
       "      <td>54.816667</td>\n",
       "      <td>45.283333</td>\n",
       "      <td>NaN</td>\n",
       "      <td>NaN</td>\n",
       "      <td>73.466667</td>\n",
       "    </tr>\n",
       "    <tr>\n",
       "      <th>2017-06-21 17:30:00</th>\n",
       "      <td>NaN</td>\n",
       "      <td>52.150000</td>\n",
       "      <td>43.933333</td>\n",
       "      <td>43.933333</td>\n",
       "      <td>NaN</td>\n",
       "      <td>67.816667</td>\n",
       "    </tr>\n",
       "    <tr>\n",
       "      <th>2017-06-21 17:45:00</th>\n",
       "      <td>NaN</td>\n",
       "      <td>48.600000</td>\n",
       "      <td>NaN</td>\n",
       "      <td>41.600000</td>\n",
       "      <td>NaN</td>\n",
       "      <td>64.583333</td>\n",
       "    </tr>\n",
       "    <tr>\n",
       "      <th>2017-06-21 18:00:00</th>\n",
       "      <td>NaN</td>\n",
       "      <td>45.500000</td>\n",
       "      <td>NaN</td>\n",
       "      <td>39.300000</td>\n",
       "      <td>NaN</td>\n",
       "      <td>58.816667</td>\n",
       "    </tr>\n",
       "    <tr>\n",
       "      <th>2017-06-21 18:15:00</th>\n",
       "      <td>NaN</td>\n",
       "      <td>42.233333</td>\n",
       "      <td>NaN</td>\n",
       "      <td>36.383333</td>\n",
       "      <td>NaN</td>\n",
       "      <td>53.900000</td>\n",
       "    </tr>\n",
       "    <tr>\n",
       "      <th>2017-06-21 18:30:00</th>\n",
       "      <td>NaN</td>\n",
       "      <td>38.750000</td>\n",
       "      <td>NaN</td>\n",
       "      <td>33.533333</td>\n",
       "      <td>NaN</td>\n",
       "      <td>49.333333</td>\n",
       "    </tr>\n",
       "    <tr>\n",
       "      <th>2017-06-21 18:45:00</th>\n",
       "      <td>NaN</td>\n",
       "      <td>34.383333</td>\n",
       "      <td>NaN</td>\n",
       "      <td>29.950000</td>\n",
       "      <td>NaN</td>\n",
       "      <td>43.333333</td>\n",
       "    </tr>\n",
       "    <tr>\n",
       "      <th>2017-06-21 19:00:00</th>\n",
       "      <td>NaN</td>\n",
       "      <td>30.750000</td>\n",
       "      <td>NaN</td>\n",
       "      <td>27.316667</td>\n",
       "      <td>NaN</td>\n",
       "      <td>39.083333</td>\n",
       "    </tr>\n",
       "    <tr>\n",
       "      <th>2017-06-21 19:15:00</th>\n",
       "      <td>NaN</td>\n",
       "      <td>29.733333</td>\n",
       "      <td>NaN</td>\n",
       "      <td>26.166667</td>\n",
       "      <td>NaN</td>\n",
       "      <td>37.100000</td>\n",
       "    </tr>\n",
       "    <tr>\n",
       "      <th>2017-06-21 19:30:00</th>\n",
       "      <td>NaN</td>\n",
       "      <td>28.716667</td>\n",
       "      <td>NaN</td>\n",
       "      <td>25.483333</td>\n",
       "      <td>NaN</td>\n",
       "      <td>35.450000</td>\n",
       "    </tr>\n",
       "    <tr>\n",
       "      <th>2017-06-21 19:45:00</th>\n",
       "      <td>NaN</td>\n",
       "      <td>28.000000</td>\n",
       "      <td>NaN</td>\n",
       "      <td>25.016667</td>\n",
       "      <td>NaN</td>\n",
       "      <td>34.650000</td>\n",
       "    </tr>\n",
       "    <tr>\n",
       "      <th>2017-06-21 20:00:00</th>\n",
       "      <td>NaN</td>\n",
       "      <td>27.900000</td>\n",
       "      <td>NaN</td>\n",
       "      <td>24.983333</td>\n",
       "      <td>NaN</td>\n",
       "      <td>34.200000</td>\n",
       "    </tr>\n",
       "    <tr>\n",
       "      <th>2017-06-21 20:15:00</th>\n",
       "      <td>NaN</td>\n",
       "      <td>28.033333</td>\n",
       "      <td>NaN</td>\n",
       "      <td>24.966667</td>\n",
       "      <td>NaN</td>\n",
       "      <td>34.550000</td>\n",
       "    </tr>\n",
       "    <tr>\n",
       "      <th>2017-06-21 20:30:00</th>\n",
       "      <td>NaN</td>\n",
       "      <td>27.883333</td>\n",
       "      <td>NaN</td>\n",
       "      <td>24.983333</td>\n",
       "      <td>NaN</td>\n",
       "      <td>34.250000</td>\n",
       "    </tr>\n",
       "  </tbody>\n",
       "</table>\n",
       "</div>"
      ],
      "text/plain": [
       "                     best_guess  best_guess_late  optimistic  optimistic_late  \\\n",
       "2017-06-21 12:45:00   32.866667              NaN   27.266667              NaN   \n",
       "2017-06-21 13:00:00   32.483333              NaN   27.600000              NaN   \n",
       "2017-06-21 13:15:00   33.016667              NaN   28.500000              NaN   \n",
       "2017-06-21 13:30:00   33.783333              NaN   29.650000              NaN   \n",
       "2017-06-21 13:45:00   35.483333              NaN   31.083333              NaN   \n",
       "2017-06-21 14:00:00   39.266667              NaN   33.766667              NaN   \n",
       "2017-06-21 14:15:00   46.166667              NaN   37.183333              NaN   \n",
       "2017-06-21 14:30:00   47.800000              NaN   39.916667              NaN   \n",
       "2017-06-21 14:45:00   51.033333              NaN   41.950000              NaN   \n",
       "2017-06-21 15:00:00   52.450000              NaN   42.200000              NaN   \n",
       "2017-06-21 15:15:00   55.566667              NaN   45.233333              NaN   \n",
       "2017-06-21 15:30:00   58.333333              NaN   47.150000              NaN   \n",
       "2017-06-21 15:45:00   59.683333              NaN   48.583333              NaN   \n",
       "2017-06-21 16:00:00   61.616667              NaN   48.016667              NaN   \n",
       "2017-06-21 16:15:00   61.483333              NaN   49.533333              NaN   \n",
       "2017-06-21 16:30:00   61.266667              NaN   49.266667              NaN   \n",
       "2017-06-21 16:45:00   60.600000              NaN   48.916667              NaN   \n",
       "2017-06-21 17:00:00   58.450000              NaN   47.100000              NaN   \n",
       "2017-06-21 17:15:00   54.816667        54.816667   45.283333              NaN   \n",
       "2017-06-21 17:30:00         NaN        52.150000   43.933333        43.933333   \n",
       "2017-06-21 17:45:00         NaN        48.600000         NaN        41.600000   \n",
       "2017-06-21 18:00:00         NaN        45.500000         NaN        39.300000   \n",
       "2017-06-21 18:15:00         NaN        42.233333         NaN        36.383333   \n",
       "2017-06-21 18:30:00         NaN        38.750000         NaN        33.533333   \n",
       "2017-06-21 18:45:00         NaN        34.383333         NaN        29.950000   \n",
       "2017-06-21 19:00:00         NaN        30.750000         NaN        27.316667   \n",
       "2017-06-21 19:15:00         NaN        29.733333         NaN        26.166667   \n",
       "2017-06-21 19:30:00         NaN        28.716667         NaN        25.483333   \n",
       "2017-06-21 19:45:00         NaN        28.000000         NaN        25.016667   \n",
       "2017-06-21 20:00:00         NaN        27.900000         NaN        24.983333   \n",
       "2017-06-21 20:15:00         NaN        28.033333         NaN        24.966667   \n",
       "2017-06-21 20:30:00         NaN        27.883333         NaN        24.983333   \n",
       "\n",
       "                     pessimistic  pessimistic_late  \n",
       "2017-06-21 12:45:00    40.366667               NaN  \n",
       "2017-06-21 13:00:00    40.916667               NaN  \n",
       "2017-06-21 13:15:00    42.783333               NaN  \n",
       "2017-06-21 13:30:00    44.383333               NaN  \n",
       "2017-06-21 13:45:00    49.600000               NaN  \n",
       "2017-06-21 14:00:00    57.616667               NaN  \n",
       "2017-06-21 14:15:00    64.400000               NaN  \n",
       "2017-06-21 14:30:00    69.100000               NaN  \n",
       "2017-06-21 14:45:00    71.233333               NaN  \n",
       "2017-06-21 15:00:00    76.866667               NaN  \n",
       "2017-06-21 15:15:00    82.700000               NaN  \n",
       "2017-06-21 15:30:00    87.300000               NaN  \n",
       "2017-06-21 15:45:00    87.666667               NaN  \n",
       "2017-06-21 16:00:00    88.900000               NaN  \n",
       "2017-06-21 16:15:00    89.850000               NaN  \n",
       "2017-06-21 16:30:00    87.466667               NaN  \n",
       "2017-06-21 16:45:00    80.450000         80.450000  \n",
       "2017-06-21 17:00:00          NaN         76.316667  \n",
       "2017-06-21 17:15:00          NaN         73.466667  \n",
       "2017-06-21 17:30:00          NaN         67.816667  \n",
       "2017-06-21 17:45:00          NaN         64.583333  \n",
       "2017-06-21 18:00:00          NaN         58.816667  \n",
       "2017-06-21 18:15:00          NaN         53.900000  \n",
       "2017-06-21 18:30:00          NaN         49.333333  \n",
       "2017-06-21 18:45:00          NaN         43.333333  \n",
       "2017-06-21 19:00:00          NaN         39.083333  \n",
       "2017-06-21 19:15:00          NaN         37.100000  \n",
       "2017-06-21 19:30:00          NaN         35.450000  \n",
       "2017-06-21 19:45:00          NaN         34.650000  \n",
       "2017-06-21 20:00:00          NaN         34.200000  \n",
       "2017-06-21 20:15:00          NaN         34.550000  \n",
       "2017-06-21 20:30:00          NaN         34.250000  "
      ]
     },
     "execution_count": 253,
     "metadata": {},
     "output_type": "execute_result"
    }
   ],
   "source": [
    "new_travel_times"
   ]
  },
  {
   "cell_type": "code",
   "execution_count": null,
   "metadata": {
    "collapsed": true
   },
   "outputs": [],
   "source": []
  }
 ],
 "metadata": {
  "anaconda-cloud": {},
  "kernelspec": {
   "display_name": "Python [py3]",
   "language": "python",
   "name": "Python [py3]"
  },
  "language_info": {
   "codemirror_mode": {
    "name": "ipython",
    "version": 3
   },
   "file_extension": ".py",
   "mimetype": "text/x-python",
   "name": "python",
   "nbconvert_exporter": "python",
   "pygments_lexer": "ipython3",
   "version": "3.5.2"
  }
 },
 "nbformat": 4,
 "nbformat_minor": 2
}
