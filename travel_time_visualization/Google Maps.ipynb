{
 "cells": [
  {
   "cell_type": "code",
   "execution_count": 2,
   "metadata": {
    "collapsed": false
   },
   "outputs": [],
   "source": [
    "from config import API_KEY\n",
    "import requests"
   ]
  },
  {
   "cell_type": "code",
   "execution_count": 3,
   "metadata": {
    "collapsed": true
   },
   "outputs": [],
   "source": [
    "BASE_URL=\"https://maps.googleapis.com/maps/api/\"\n",
    "def makeRequest(url):\n",
    "    url+=\"&key=%s\"%API_KEY\n",
    "    #print(url)\n",
    "    return requests.get(url).json()\n",
    "def getDistanceMatrix(origin,destination,mode=\"car\",departure_time=None,traffic_model =\"best_guess\"):\n",
    "    url=BASE_URL+\"distancematrix/json?\"\n",
    "    params=\"origins=%s&destinations=%s&mode=%s&departure_time=%s&traffic_model=%s\"%(origin,destination,mode,departure_time,traffic_model)\n",
    "    return makeRequest(url+params)"
   ]
  },
  {
   "cell_type": "code",
   "execution_count": 7,
   "metadata": {
    "collapsed": false
   },
   "outputs": [
    {
     "data": {
      "text/plain": [
       "{'destination_addresses': ['Willowbrook, IL 60527, USA'],\n",
       " 'origin_addresses': ['Chicago, IL 60607, USA'],\n",
       " 'rows': [{'elements': [{'distance': {'text': '31.3 km', 'value': 31272},\n",
       "     'duration': {'text': '38 mins', 'value': 2297},\n",
       "     'duration_in_traffic': {'text': '53 mins', 'value': 3176},\n",
       "     'status': 'OK'}]}],\n",
       " 'status': 'OK'}"
      ]
     },
     "execution_count": 7,
     "metadata": {},
     "output_type": "execute_result"
    }
   ],
   "source": [
    "import datetime\n",
    "departure_time=datetime.datetime.now().timestamp()\n",
    "response=getDistanceMatrix(\"60607\",\"60527\",\"car\",int(departure_time))\n",
    "response"
   ]
  },
  {
   "cell_type": "markdown",
   "metadata": {},
   "source": [
    "TODO add optimistic and pessimistic range. Compute for range until a point. E.g. I need to be home by 6 and want the least time driving"
   ]
  },
  {
   "cell_type": "code",
   "execution_count": 136,
   "metadata": {
    "collapsed": false
   },
   "outputs": [
    {
     "data": {
      "text/plain": [
       "168"
      ]
     },
     "execution_count": 136,
     "metadata": {},
     "output_type": "execute_result"
    }
   ],
   "source": [
    "len(range(0,60*14,15))*3"
   ]
  },
  {
   "cell_type": "code",
   "execution_count": 10,
   "metadata": {
    "collapsed": false,
    "scrolled": true
   },
   "outputs": [],
   "source": [
    "from collections import defaultdict\n",
    "now=departure_time=datetime.datetime.now()\n",
    "start_date=now\n",
    "request_times=defaultdict(dict)\n",
    "for date in (start_date + datetime.timedelta(minutes=offset) for offset in range(0,60*14,15)):\n",
    "    if date<start_date+datetime.timedelta(hours=5):#replace with UNTIL\n",
    "        date_str=date.strftime(\"%b-%d %H:%M\")\n",
    "        request_times['best_guess'][date_str]=(getDistanceMatrix(\"60606\",\"60527\",\"car\",int(date.timestamp()),'best_guess'))\n",
    "        request_times['pessimistic'][date_str]=(getDistanceMatrix(\"60606\",\"60527\",\"car\",int(date.timestamp()),'pessimistic'))\n",
    "        request_times['optimistic'][date_str]=(getDistanceMatrix(\"60606\",\"60527\",\"car\",int(date.timestamp()),'optimistic'))"
   ]
  },
  {
   "cell_type": "code",
   "execution_count": 11,
   "metadata": {
    "collapsed": false
   },
   "outputs": [
    {
     "data": {
      "text/plain": [
       "1748"
      ]
     },
     "execution_count": 11,
     "metadata": {},
     "output_type": "execute_result"
    }
   ],
   "source": [
    "{'destination_addresses': ['Willowbrook, IL 60527, USA'],\n",
    "               'origin_addresses': [\"O'Hare International Airport (ORD), 10000 W O'Hare Ave, Chicago, IL 60666, USA\"],\n",
    "               'rows': [{'elements': [{'distance': {'text': '34.0 km',\n",
    "                    'value': 34044},\n",
    "                   'duration': {'text': '25 mins', 'value': 1500},\n",
    "                   'duration_in_traffic': {'text': '29 mins', 'value': 1748},\n",
    "                   'status': 'OK'}]}],\n",
    "               'status': 'OK'}['rows'][0]['elements'][0]['duration_in_traffic']['value']"
   ]
  },
  {
   "cell_type": "code",
   "execution_count": 12,
   "metadata": {
    "collapsed": false
   },
   "outputs": [
    {
     "data": {
      "text/plain": [
       "60.275862068965516"
      ]
     },
     "execution_count": 12,
     "metadata": {},
     "output_type": "execute_result"
    }
   ],
   "source": [
    "1748/29"
   ]
  },
  {
   "cell_type": "code",
   "execution_count": 13,
   "metadata": {
    "collapsed": false
   },
   "outputs": [],
   "source": [
    "request_times_copy=request_times.copy()\n",
    "for date in request_times_copy:\n",
    "    for traffic_model in request_times_copy[date]:\n",
    "        request_times_copy[date][traffic_model]=request_times[date][traffic_model]['rows'][0]['elements'][0]['duration_in_traffic']['value']"
   ]
  },
  {
   "cell_type": "code",
   "execution_count": 14,
   "metadata": {
    "collapsed": false
   },
   "outputs": [
    {
     "data": {
      "text/html": [
       "<div>\n",
       "<table border=\"1\" class=\"dataframe\">\n",
       "  <thead>\n",
       "    <tr style=\"text-align: right;\">\n",
       "      <th></th>\n",
       "      <th>best_guess</th>\n",
       "      <th>optimistic</th>\n",
       "      <th>pessimistic</th>\n",
       "    </tr>\n",
       "  </thead>\n",
       "  <tbody>\n",
       "    <tr>\n",
       "      <th>Jun-20 16:14</th>\n",
       "      <td>3574</td>\n",
       "      <td>2746</td>\n",
       "      <td>5064</td>\n",
       "    </tr>\n",
       "    <tr>\n",
       "      <th>Jun-20 16:29</th>\n",
       "      <td>3491</td>\n",
       "      <td>2773</td>\n",
       "      <td>4901</td>\n",
       "    </tr>\n",
       "    <tr>\n",
       "      <th>Jun-20 16:44</th>\n",
       "      <td>3449</td>\n",
       "      <td>2716</td>\n",
       "      <td>4739</td>\n",
       "    </tr>\n",
       "    <tr>\n",
       "      <th>Jun-20 16:59</th>\n",
       "      <td>3354</td>\n",
       "      <td>2636</td>\n",
       "      <td>4226</td>\n",
       "    </tr>\n",
       "    <tr>\n",
       "      <th>Jun-20 17:14</th>\n",
       "      <td>3046</td>\n",
       "      <td>2564</td>\n",
       "      <td>3978</td>\n",
       "    </tr>\n",
       "  </tbody>\n",
       "</table>\n",
       "</div>"
      ],
      "text/plain": [
       "              best_guess  optimistic  pessimistic\n",
       "Jun-20 16:14        3574        2746         5064\n",
       "Jun-20 16:29        3491        2773         4901\n",
       "Jun-20 16:44        3449        2716         4739\n",
       "Jun-20 16:59        3354        2636         4226\n",
       "Jun-20 17:14        3046        2564         3978"
      ]
     },
     "execution_count": 14,
     "metadata": {},
     "output_type": "execute_result"
    }
   ],
   "source": [
    "import pandas as pd\n",
    "travel_times=pd.DataFrame(request_times_copy)\n",
    "travel_times.head()"
   ]
  },
  {
   "cell_type": "code",
   "execution_count": 15,
   "metadata": {
    "collapsed": false
   },
   "outputs": [
    {
     "data": {
      "text/plain": [
       "<matplotlib.axes._subplots.AxesSubplot at 0x1c5a0256748>"
      ]
     },
     "execution_count": 15,
     "metadata": {},
     "output_type": "execute_result"
    },
    {
     "data": {
      "image/png": "[encoded data removed]",
      "text/plain": [
       "<matplotlib.figure.Figure at 0x1c5a01e27f0>"
      ]
     },
     "metadata": {},
     "output_type": "display_data"
    }
   ],
   "source": [
    "import matplotlib.pyplot as plt\n",
    "%matplotlib inline\n",
    "(travel_times/60).plot()"
   ]
  },
  {
   "cell_type": "code",
   "execution_count": null,
   "metadata": {
    "collapsed": true
   },
   "outputs": [],
   "source": []
  }
 ],
 "metadata": {
  "kernelspec": {
   "display_name": "Python 3",
   "language": "python",
   "name": "python3"
  },
  "language_info": {
   "codemirror_mode": {
    "name": "ipython",
    "version": 3
   },
   "file_extension": ".py",
   "mimetype": "text/x-python",
   "name": "python",
   "nbconvert_exporter": "python",
   "pygments_lexer": "ipython3",
   "version": "3.6.0"
  }
 },
 "nbformat": 4,
 "nbformat_minor": 2
}
