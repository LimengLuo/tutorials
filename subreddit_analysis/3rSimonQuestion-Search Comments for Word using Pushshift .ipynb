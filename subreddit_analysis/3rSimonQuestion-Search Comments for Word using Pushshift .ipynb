{
 "cells": [
  {
   "cell_type": "markdown",
   "id": "295dae28",
   "metadata": {},
   "source": [
    "# Question from Reddit\n",
    "How to search for all comments containing a word and output it.\n",
    "https://www.reddit.com/r/learnpython/comments/qmngli/reddit_data/?utm_source=share&utm_medium=web2x&context=3"
   ]
  },
  {
   "cell_type": "code",
   "execution_count": 1,
   "id": "59b45901",
   "metadata": {},
   "outputs": [],
   "source": [
    "from secret_services import reddit, pushshift"
   ]
  },
  {
   "cell_type": "code",
   "execution_count": 7,
   "id": "e5e0f9ee",
   "metadata": {},
   "outputs": [
    {
     "name": "stderr",
     "output_type": "stream",
     "text": [
      "C:\\Users\\minim\\miniconda3\\envs\\subreddit_analysis\\lib\\site-packages\\psaw\\PushshiftAPI.py:252: UserWarning: Not all PushShift shards are active. Query results may be incomplete\n",
      "  warnings.warn(shards_down_message)\n"
     ]
    },
    {
     "name": "stdout",
     "output_type": "stream",
     "text": [
      "[deleted]\n",
      "[deleted]\n",
      "[deleted]\n",
      "[removed]\n",
      "[deleted]\n",
      "[removed]\n",
      "[deleted]\n",
      "[deleted]\n",
      "[deleted]\n",
      "[deleted]\n",
      "[deleted]\n",
      "[deleted]\n",
      "[deleted]\n"
     ]
    },
    {
     "data": {
      "text/html": [
       "<div>\n",
       "<style scoped>\n",
       "    .dataframe tbody tr th:only-of-type {\n",
       "        vertical-align: middle;\n",
       "    }\n",
       "\n",
       "    .dataframe tbody tr th {\n",
       "        vertical-align: top;\n",
       "    }\n",
       "\n",
       "    .dataframe thead th {\n",
       "        text-align: right;\n",
       "    }\n",
       "</style>\n",
       "<table border=\"1\" class=\"dataframe\">\n",
       "  <thead>\n",
       "    <tr style=\"text-align: right;\">\n",
       "      <th></th>\n",
       "      <th>comment_id</th>\n",
       "      <th>comment_text</th>\n",
       "      <th>score</th>\n",
       "      <th>post</th>\n",
       "    </tr>\n",
       "  </thead>\n",
       "  <tbody>\n",
       "    <tr>\n",
       "      <th>0</th>\n",
       "      <td>hafl3n0</td>\n",
       "      <td>I don't artificially inseminate..... my cows f...</td>\n",
       "      <td>-1</td>\n",
       "      <td>p9wdlq</td>\n",
       "    </tr>\n",
       "    <tr>\n",
       "      <th>1</th>\n",
       "      <td>haf6krp</td>\n",
       "      <td>Why the fuck cut down the last of the old grow...</td>\n",
       "      <td>16</td>\n",
       "      <td>pbm2jq</td>\n",
       "    </tr>\n",
       "    <tr>\n",
       "      <th>2</th>\n",
       "      <td>haemz66</td>\n",
       "      <td>I was beginning to believe that the vegan move...</td>\n",
       "      <td>1</td>\n",
       "      <td>pbbq9k</td>\n",
       "    </tr>\n",
       "    <tr>\n",
       "      <th>3</th>\n",
       "      <td>hac5sym</td>\n",
       "      <td>Its just a move by oil companies to keep doing...</td>\n",
       "      <td>8</td>\n",
       "      <td>pbhpam</td>\n",
       "    </tr>\n",
       "    <tr>\n",
       "      <th>4</th>\n",
       "      <td>habovkv</td>\n",
       "      <td>There's going to be a fight, but it is looking...</td>\n",
       "      <td>2</td>\n",
       "      <td>pbh9tg</td>\n",
       "    </tr>\n",
       "    <tr>\n",
       "      <th>...</th>\n",
       "      <td>...</td>\n",
       "      <td>...</td>\n",
       "      <td>...</td>\n",
       "      <td>...</td>\n",
       "    </tr>\n",
       "    <tr>\n",
       "      <th>182</th>\n",
       "      <td>h8h73ow</td>\n",
       "      <td>You’re being hyperbolic. Vladimir Lenin and Fi...</td>\n",
       "      <td>1</td>\n",
       "      <td>p18k12</td>\n",
       "    </tr>\n",
       "    <tr>\n",
       "      <th>183</th>\n",
       "      <td>h8go124</td>\n",
       "      <td>To a certain extent, oil companies merely prov...</td>\n",
       "      <td>2</td>\n",
       "      <td>p1vpy8</td>\n",
       "    </tr>\n",
       "    <tr>\n",
       "      <th>184</th>\n",
       "      <td>h8gkru2</td>\n",
       "      <td>I highly doubt that goes through. So many Demo...</td>\n",
       "      <td>5</td>\n",
       "      <td>p1ts7y</td>\n",
       "    </tr>\n",
       "    <tr>\n",
       "      <th>185</th>\n",
       "      <td>h8gh77h</td>\n",
       "      <td>first off, we owe the overwhelming majority of...</td>\n",
       "      <td>1</td>\n",
       "      <td>p1v3b1</td>\n",
       "    </tr>\n",
       "    <tr>\n",
       "      <th>186</th>\n",
       "      <td>h8g246c</td>\n",
       "      <td>&gt; DeSmog conducted a five-month investigation ...</td>\n",
       "      <td>1</td>\n",
       "      <td>p1w31n</td>\n",
       "    </tr>\n",
       "  </tbody>\n",
       "</table>\n",
       "<p>187 rows × 4 columns</p>\n",
       "</div>"
      ],
      "text/plain": [
       "    comment_id                                       comment_text  score  \\\n",
       "0      hafl3n0  I don't artificially inseminate..... my cows f...     -1   \n",
       "1      haf6krp  Why the fuck cut down the last of the old grow...     16   \n",
       "2      haemz66  I was beginning to believe that the vegan move...      1   \n",
       "3      hac5sym  Its just a move by oil companies to keep doing...      8   \n",
       "4      habovkv  There's going to be a fight, but it is looking...      2   \n",
       "..         ...                                                ...    ...   \n",
       "182    h8h73ow  You’re being hyperbolic. Vladimir Lenin and Fi...      1   \n",
       "183    h8go124  To a certain extent, oil companies merely prov...      2   \n",
       "184    h8gkru2  I highly doubt that goes through. So many Demo...      5   \n",
       "185    h8gh77h  first off, we owe the overwhelming majority of...      1   \n",
       "186    h8g246c  > DeSmog conducted a five-month investigation ...      1   \n",
       "\n",
       "       post  \n",
       "0    p9wdlq  \n",
       "1    pbm2jq  \n",
       "2    pbbq9k  \n",
       "3    pbhpam  \n",
       "4    pbh9tg  \n",
       "..      ...  \n",
       "182  p18k12  \n",
       "183  p1vpy8  \n",
       "184  p1ts7y  \n",
       "185  p1v3b1  \n",
       "186  p1w31n  \n",
       "\n",
       "[187 rows x 4 columns]"
      ]
     },
     "execution_count": 7,
     "metadata": {},
     "output_type": "execute_result"
    }
   ],
   "source": [
    "subreddit_name=\"environment\"\n",
    "word_to_check=\"companies\"\n",
    "comments=pushshift.search_comments(q=word_to_check, subreddit=subreddit_name, limit=200, before=1629990795)\n",
    "import pandas as pd\n",
    "\n",
    "post_with_comments=[]\n",
    "for comment in comments:\n",
    "    if word_to_check in comment.body.lower():#case insensitive check\n",
    "        post_with_comments.append(\n",
    "            {\"comment_id\": comment.id, \"comment_text\": comment.body,\"score\": comment.score,\"post\": comment.submission.id\n",
    "            }\n",
    "        )\n",
    "    else:\n",
    "        #edited or removed comments don't work\n",
    "        print(comment.body)\n",
    "df=pd.DataFrame(post_with_comments)\n",
    "df\n"
   ]
  },
  {
   "cell_type": "code",
   "execution_count": 4,
   "id": "ce109cda",
   "metadata": {},
   "outputs": [
    {
     "data": {
      "text/plain": [
       "True"
      ]
     },
     "execution_count": 4,
     "metadata": {},
     "output_type": "execute_result"
    }
   ],
   "source": [
    "len(df[df['comment_text'].str.contains(word_to_check)])==len(df)#success!"
   ]
  },
  {
   "cell_type": "code",
   "execution_count": null,
   "id": "01080f9b",
   "metadata": {},
   "outputs": [],
   "source": []
  }
 ],
 "metadata": {
  "kernelspec": {
   "display_name": "Python 3 (ipykernel)",
   "language": "python",
   "name": "python3"
  },
  "language_info": {
   "codemirror_mode": {
    "name": "ipython",
    "version": 3
   },
   "file_extension": ".py",
   "mimetype": "text/x-python",
   "name": "python",
   "nbconvert_exporter": "python",
   "pygments_lexer": "ipython3",
   "version": "3.9.6"
  }
 },
 "nbformat": 4,
 "nbformat_minor": 5
}
